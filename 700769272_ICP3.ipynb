{
  "nbformat": 4,
  "nbformat_minor": 0,
  "metadata": {
    "colab": {
      "provenance": []
    },
    "kernelspec": {
      "name": "python3",
      "display_name": "Python 3"
    },
    "language_info": {
      "name": "python"
    }
  },
  "cells": [
    {
      "cell_type": "code",
      "execution_count": 2,
      "metadata": {
        "colab": {
          "base_uri": "https://localhost:8080/"
        },
        "id": "d-0nkIcM2O_y",
        "outputId": "79ae48b3-daf5-454a-af0a-038ab6e35dda"
      },
      "outputs": [
        {
          "output_type": "stream",
          "name": "stdout",
          "text": [
            "[20  8  9 14  3 11 16 19 20  3  2 18  2 13 16]\n"
          ]
        }
      ],
      "source": [
        "import numpy as np\n",
        "\n",
        "# Create a random vector of size 15 with integers from 1 to 20\n",
        "rv = np.random.randint(1, 21, size=15)\n",
        "\n",
        "print(rv)\n"
      ]
    },
    {
      "cell_type": "code",
      "source": [
        "# Reshape it to a 3x5 array\n",
        "ra = rv.reshape(3, 5)\n",
        "\n",
        "print(ra)\n"
      ],
      "metadata": {
        "colab": {
          "base_uri": "https://localhost:8080/"
        },
        "id": "W0SUyeam2yEJ",
        "outputId": "19c2e7e7-9eea-45a3-e880-e4a2abb88da7"
      },
      "execution_count": 8,
      "outputs": [
        {
          "output_type": "stream",
          "name": "stdout",
          "text": [
            "[[20  8  9 14  3]\n",
            " [11 16 19 20  3]\n",
            " [ 2 18  2 13 16]]\n"
          ]
        }
      ]
    },
    {
      "cell_type": "code",
      "source": [
        "# Shape of the array\n",
        "print(\"Shape of the array:\", ra.shape)"
      ],
      "metadata": {
        "colab": {
          "base_uri": "https://localhost:8080/"
        },
        "id": "SyDUmSQ63Ch-",
        "outputId": "3941f3de-8961-4b74-99bf-5c5dc28c39be"
      },
      "execution_count": 7,
      "outputs": [
        {
          "output_type": "stream",
          "name": "stdout",
          "text": [
            "Shape of the array: (3, 5)\n"
          ]
        }
      ]
    },
    {
      "cell_type": "code",
      "source": [
        "print(\"Original Array:\\n\", ra)\n",
        "\n",
        "# Replace the max in each row with 0\n",
        "for i in range(ra.shape[0]):\n",
        "    max_index = ra[i].argmax()  # Find index of max in the row\n",
        "    ra[i, max_index] = 0        # Replace max with 0\n",
        "\n",
        "print(\"\\nArray after replacing max in each row with 0:\\n\", ra)"
      ],
      "metadata": {
        "colab": {
          "base_uri": "https://localhost:8080/"
        },
        "id": "7LWlRIEd3uSi",
        "outputId": "537f2030-d5fa-4495-a282-9e7a4e935501"
      },
      "execution_count": 9,
      "outputs": [
        {
          "output_type": "stream",
          "name": "stdout",
          "text": [
            "Original Array:\n",
            " [[20  8  9 14  3]\n",
            " [11 16 19 20  3]\n",
            " [ 2 18  2 13 16]]\n",
            "\n",
            "Array after replacing max in each row with 0:\n",
            " [[ 0  8  9 14  3]\n",
            " [11 16 19  0  3]\n",
            " [ 2  0  2 13 16]]\n"
          ]
        }
      ]
    },
    {
      "cell_type": "code",
      "source": [
        "# Create a 4x3 array with 4-byte integer elements (int32)\n",
        "array= np.random.randint(1, 101, size=(4, 3), dtype=np.int32)\n",
        "\n",
        "# Print the array\n",
        "print(\"Array:\\n\", array)\n",
        "\n",
        "# Print shape, type, and data type\n",
        "print(\"Shape:\", array.shape)\n",
        "print(\"Type:\", type(array))\n",
        "print(\"Data type:\", array.dtype)\n"
      ],
      "metadata": {
        "colab": {
          "base_uri": "https://localhost:8080/"
        },
        "id": "VIxWd4xs4Pqx",
        "outputId": "85931979-72df-425f-a680-bc26548fcbef"
      },
      "execution_count": 12,
      "outputs": [
        {
          "output_type": "stream",
          "name": "stdout",
          "text": [
            "Array:\n",
            " [[58 95 29]\n",
            " [13 41 57]\n",
            " [50 56 62]\n",
            " [56 96  7]]\n",
            "Shape: (4, 3)\n",
            "Type: <class 'numpy.ndarray'>\n",
            "Data type: int32\n"
          ]
        }
      ]
    },
    {
      "cell_type": "code",
      "source": [
        "# Define the square matrix\n",
        "A = np.array([[3, -2],\n",
        "              [1,  0]])\n",
        "\n",
        "# Compute eigenvalues and right eigenvectors\n",
        "eigenvalues, eigenvectors = np.linalg.eig(A)\n",
        "\n",
        "# Print the results\n",
        "print(\"Eigenvalues:\", eigenvalues)\n",
        "\n",
        "\n",
        "print(\"\\nRight Eigenvectors (each column is an eigenvector):\", eigenvectors)\n",
        "\n"
      ],
      "metadata": {
        "colab": {
          "base_uri": "https://localhost:8080/"
        },
        "id": "eNZrbDaD5Oaf",
        "outputId": "df00b74b-197c-4dc0-b6fa-c7b664abdd2c"
      },
      "execution_count": 13,
      "outputs": [
        {
          "output_type": "stream",
          "name": "stdout",
          "text": [
            "Eigenvalues: [2. 1.]\n",
            "\n",
            "Right Eigenvectors (each column is an eigenvector): [[0.89442719 0.70710678]\n",
            " [0.4472136  0.70710678]]\n"
          ]
        }
      ]
    },
    {
      "cell_type": "code",
      "source": [
        "arr = np.array([[0, 1, 2],\n",
        "                [3, 4, 5]])\n",
        "\n",
        "# Extract the main diagonal\n",
        "diagonal = np.diag(arr)\n",
        "\n",
        "# Compute the sum of the diagonal elements\n",
        "sum = np.sum(diagonal)\n",
        "\n",
        "print(\"Diagonal elements:\", diagonal)\n",
        "print(\"Sum of diagonal elements:\", sum)\n"
      ],
      "metadata": {
        "colab": {
          "base_uri": "https://localhost:8080/"
        },
        "id": "xURspOMl6Cj1",
        "outputId": "c87570be-85d6-4975-adbf-a5f8e9cc91c7"
      },
      "execution_count": 14,
      "outputs": [
        {
          "output_type": "stream",
          "name": "stdout",
          "text": [
            "Diagonal elements: [0 4]\n",
            "Sum of diagonal elements: 4\n"
          ]
        }
      ]
    },
    {
      "cell_type": "code",
      "source": [
        "# Original 3x2 array\n",
        "array = np.array([[1, 2],\n",
        "                           [3, 4],\n",
        "                           [5, 6]])\n",
        "\n",
        "print(\"Original 3x2 Array:\\n\", array)\n",
        "\n",
        "# Reshape to 2x3\n",
        "r_array = array.reshape(2, 3)\n",
        "\n",
        "print(\"\\nReshaped 2x3 Array:\\n\", r_array)\n"
      ],
      "metadata": {
        "colab": {
          "base_uri": "https://localhost:8080/"
        },
        "id": "NSwfhRyw6lRa",
        "outputId": "7e34a8d2-69fd-45b0-9268-1fc82a771c04"
      },
      "execution_count": 15,
      "outputs": [
        {
          "output_type": "stream",
          "name": "stdout",
          "text": [
            "Original 3x2 Array:\n",
            " [[1 2]\n",
            " [3 4]\n",
            " [5 6]]\n",
            "\n",
            "Reshaped 2x3 Array:\n",
            " [[1 2 3]\n",
            " [4 5 6]]\n"
          ]
        }
      ]
    }
  ]
}